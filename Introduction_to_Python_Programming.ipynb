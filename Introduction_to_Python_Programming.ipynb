{
  "nbformat": 4,
  "nbformat_minor": 0,
  "metadata": {
    "colab": {
      "provenance": []
    },
    "kernelspec": {
      "name": "python3",
      "display_name": "Python 3"
    },
    "language_info": {
      "name": "python"
    }
  },
  "cells": [
    {
      "cell_type": "markdown",
      "source": [
        "# **Introduction to Python Programming**\n",
        "\n",
        "Welcome to your first shared notebook!\n",
        "Please make a copy of this colab and start play with your own copy."
      ],
      "metadata": {
        "id": "DXIEC0eT0qpD"
      }
    },
    {
      "cell_type": "markdown",
      "source": [
        "# **Goals of this Practical**\n",
        "\n",
        "\n",
        "* Familiarize yourself with useful services for running snippets of code and immediately checking their outputs.\n",
        "* Master the basics of the Python language, including basic data types, operators, variables, and data structures.\n",
        "* Use control structures and loops to solve simple problems.\n",
        "* Define functions to avoid repetitive tasks.\n",
        "* Understand the concept of object-oriented programming, including the definition of a class, and distinguish between a function and a method.\n",
        "\n"
      ],
      "metadata": {
        "id": "BhbwWj71Tvvr"
      }
    },
    {
      "cell_type": "markdown",
      "source": [
        "# **Prerequisites**\n",
        "* Willingness to challenge yourself by trying out solutions beyond just copying and pasting.\n",
        "* Set clear goals for this course and stay committed. Coding can be challenging, and having a purpose helps you persevere through tough times."
      ],
      "metadata": {
        "id": "p99rRCcCV8Lm"
      }
    },
    {
      "cell_type": "markdown",
      "source": [
        "**Table of Contents**\n",
        "* What is Colab?\n",
        "* Basic Data Types\n",
        "  * Numbers (e.g. integer, float, complex)\n",
        "  * Strings (text)\n",
        "  * Booleans (bool)\n",
        "* Operators\n",
        "* Variables\n",
        "* Dir and Help\n",
        "* Built-in Data Structures\n",
        "  * Lists\n",
        "  * Tuples\n",
        "  * Sets\n",
        "  * Dictionaries\n",
        "* Writing Scripts\n",
        "  * Indentation\n",
        "  * Tabs vs Spaces\n",
        "  * Control Structures and Loops\n",
        "    * If Statement\n",
        "    * For Statement\n",
        "* Writing Functions\n",
        "* Object Basics\n",
        "  * Classes\n",
        "  * Objects\n",
        "  * Static vs Instance Variables\n",
        "* Tips and Tricks\n",
        "* Troubleshooting\n",
        "* More References"
      ],
      "metadata": {
        "id": "kE58-qL-XcAJ"
      }
    },
    {
      "cell_type": "markdown",
      "source": [
        "# **What is Colab?**\n",
        "Colab is a hosted **Jupyter notebook** service that requires **no setup**, while providing **free access** to computing resources including GPUs (i.e. resources for creating images).\n",
        "\n",
        "Jupyter notebook is an open-source web application that allows to create and share documents that contain **live code**, **equations**, **visualizations** and **narrative text**.\n",
        "\n",
        "A notebook is a list of cells. Cells contain either explanatory text or executable code and its output. There are two kinds of cells:\n",
        "* **Text cells** (Markdown)\n",
        "* **Code cells** (Equations, images and scripts)\n",
        "\n",
        "Colab supports over 40 programming languages including **Python**, R, Julia, Scala.\n",
        "Click in the cell to select it and execute the contents in the following ways:\n",
        "* Click the **Play icon** in the left gutter of the cell;\n",
        "* Type **Cmd/Ctrl+Enter** to run the cell in place;\n",
        "* Type **Shift+Enter** to run the cell and move focus to the next cell (adding one if none exists); or\n",
        "* Type **Alt+Enter** **option/return** to run the cell and insert a new code cell immediately below it.\n",
        "\n",
        "An overview of Colaboratory Features can be found here: https://colab.research.google.com/notebooks/basic_features_overview.ipynb#scrollTo=KR921S_OQSHG."
      ],
      "metadata": {
        "id": "5NgDK2XgTnWa"
      }
    },
    {
      "cell_type": "markdown",
      "source": [
        "Time to get your hands dirty!"
      ],
      "metadata": {
        "id": "DtEF78OjXSwd"
      }
    },
    {
      "cell_type": "markdown",
      "source": [
        "## **Basic Data Types**\n",
        "Every value in Python has a data type. There are several data types (i.e., objects), we will list below some important ones: numbers, strings and booleans.\n",
        "To verify the type of any object in Python, use the `type()` function:\n",
        "\n",
        "\n"
      ],
      "metadata": {
        "id": "4b1AgoYtXx2U"
      }
    },
    {
      "cell_type": "code",
      "execution_count": null,
      "metadata": {
        "id": "5QgSBGkKgXLd"
      },
      "outputs": [],
      "source": [
        "type(32)"
      ]
    },
    {
      "cell_type": "code",
      "source": [
        "type(0.5)"
      ],
      "metadata": {
        "id": "S0qRxFPeX2OM"
      },
      "execution_count": null,
      "outputs": []
    },
    {
      "cell_type": "code",
      "source": [
        "type('students')"
      ],
      "metadata": {
        "id": "TPTDORnjX3qx"
      },
      "execution_count": null,
      "outputs": []
    },
    {
      "cell_type": "code",
      "source": [
        "type(True)"
      ],
      "metadata": {
        "id": "9EvRc89gX6Eq"
      },
      "execution_count": null,
      "outputs": []
    },
    {
      "cell_type": "markdown",
      "source": [
        "### **Numbers**\n",
        "There are two main numeric types in Python:\n",
        "* `int`: a number, positive or negative, without decimals, of unlimited length.\n",
        "* `float`: a number, positive or negative, containing one or more decimals"
      ],
      "metadata": {
        "id": "6JES042jX8nk"
      }
    },
    {
      "cell_type": "markdown",
      "source": [
        "### **Strings**\n",
        "Strings in Python are surrounded by either single quotation marks, or double quotation marks.\\\n",
        "You can display a string literal with the `print()` function."
      ],
      "metadata": {
        "id": "YS3nwoVyYXvu"
      }
    },
    {
      "cell_type": "code",
      "source": [
        "print('Welcome Back!')"
      ],
      "metadata": {
        "id": "3jOpLhD5X6r5"
      },
      "execution_count": null,
      "outputs": []
    },
    {
      "cell_type": "markdown",
      "source": [
        "To concatenate string you can use the [+] operator"
      ],
      "metadata": {
        "id": "McW24gUnYgey"
      }
    },
    {
      "cell_type": "code",
      "source": [
        "'data' + \" science\""
      ],
      "metadata": {
        "id": "W4vdAHI7YipS"
      },
      "execution_count": null,
      "outputs": []
    },
    {
      "cell_type": "markdown",
      "source": [
        "Python provides a set of built-in methods. **Built-in methods and functions** are ready made snipped of code that you can use without having to define them.\\\n",
        "A comprehensive overview of built-in methods for strings and other data types/structures can be find here: https://docs.python.org/3/library/stdtypes.html#string-methods"
      ],
      "metadata": {
        "id": "F4FA3oZWYxrc"
      }
    },
    {
      "cell_type": "markdown",
      "source": [
        "To convert a string to uppercase, we can use the `.upper()` method. Similarly, to convert a string to lowercase, we can use the `.lower()` method."
      ],
      "metadata": {
        "id": "dTSkK324Y5C6"
      }
    },
    {
      "cell_type": "code",
      "source": [
        "'data'.upper()"
      ],
      "metadata": {
        "id": "aAMOkrXwYsTC"
      },
      "execution_count": null,
      "outputs": []
    },
    {
      "cell_type": "code",
      "source": [
        "'HELP'.lower()"
      ],
      "metadata": {
        "id": "WtYzXWSyZlFq"
      },
      "execution_count": null,
      "outputs": []
    },
    {
      "cell_type": "markdown",
      "source": [
        "We can also measure the lenght of a string by using `len`"
      ],
      "metadata": {
        "id": "PDs5Hzo-aE9Z"
      }
    },
    {
      "cell_type": "code",
      "source": [
        "len('Help')"
      ],
      "metadata": {
        "colab": {
          "base_uri": "https://localhost:8080/"
        },
        "id": "43yx6wEpb0Xm",
        "outputId": "27811f5f-17da-4532-cacd-1eba9140065b"
      },
      "execution_count": null,
      "outputs": [
        {
          "output_type": "execute_result",
          "data": {
            "text/plain": [
              "4"
            ]
          },
          "metadata": {},
          "execution_count": 1
        }
      ]
    },
    {
      "cell_type": "code",
      "source": [
        "len([\"Help\", \"Data Science\"])"
      ],
      "metadata": {
        "colab": {
          "base_uri": "https://localhost:8080/"
        },
        "id": "_0E72KzpcNoW",
        "outputId": "85448122-0934-4799-fa4f-8e0f3481aa1d"
      },
      "execution_count": null,
      "outputs": [
        {
          "output_type": "execute_result",
          "data": {
            "text/plain": [
              "2"
            ]
          },
          "metadata": {},
          "execution_count": 2
        }
      ]
    },
    {
      "cell_type": "markdown",
      "source": [
        "The difference between built-in methods and functions is that the latter are used for those operations that are generic for a group of types. `.upper() `and `.lower()` are built-in methods while `len()` is a built-in function."
      ],
      "metadata": {
        "id": "rkt63iGZb1FJ"
      }
    },
    {
      "cell_type": "markdown",
      "source": [
        "### **Booleans**\n",
        "Booleans are binary representation of truth states: True or False, 1 or 0."
      ],
      "metadata": {
        "id": "N-qearBFx5sD"
      }
    },
    {
      "cell_type": "code",
      "source": [
        "a = True\n",
        "b = False\n",
        "print(a)"
      ],
      "metadata": {
        "id": "nmNdVXxcx7K6"
      },
      "execution_count": null,
      "outputs": []
    },
    {
      "cell_type": "markdown",
      "source": [
        "The `bool()` function allows you to evaluate any value, and give you `True` or `False` in return. Almost any value is evaluated to `True` if it has some sort of content.\n",
        "* Any string is True, except empty strings.\n",
        "* Any number is True, except 0.\n",
        "* Any list, tuple, set, and dictionary are True, except empty ones.\n",
        "\n"
      ],
      "metadata": {
        "id": "W268qBv8x8_a"
      }
    },
    {
      "cell_type": "markdown",
      "source": [
        "## **Operators**\n",
        "Operators are used to perform operations on variables and values.\\\n",
        "*Example* of standard operators are:\\\n",
        "I + j the sum\\\n",
        "I - j the difference\\\n",
        "I * j the product\\\n",
        "I / j division\\\n",
        "I // j int division (returns integers)\\\n",
        "I % j the remainder when i is divided by j\\\n",
        "I ** j i to the power of j\\\n",
        "\\\n",
        "`<object> <operator> <object>`"
      ],
      "metadata": {
        "id": "Mem0Y08ax-UJ"
      }
    },
    {
      "cell_type": "markdown",
      "source": [
        "Arithmetic expressions"
      ],
      "metadata": {
        "id": "o0DoZZtAyAQa"
      }
    },
    {
      "cell_type": "code",
      "metadata": {
        "id": "nkeOwDHOlr2p",
        "colab": {
          "base_uri": "https://localhost:8080/"
        },
        "outputId": "b909b62e-07b8-49f3-b1ed-4711ca8c1a21"
      },
      "source": [
        "1 + 1"
      ],
      "execution_count": null,
      "outputs": [
        {
          "output_type": "execute_result",
          "data": {
            "text/plain": [
              "2"
            ]
          },
          "metadata": {},
          "execution_count": 1
        }
      ]
    },
    {
      "cell_type": "code",
      "metadata": {
        "id": "slxEm9lSm17g",
        "colab": {
          "base_uri": "https://localhost:8080/"
        },
        "outputId": "0eaa1051-b351-44ff-f402-4e52b178de1d"
      },
      "source": [
        "2 * 3"
      ],
      "execution_count": null,
      "outputs": [
        {
          "output_type": "execute_result",
          "data": {
            "text/plain": [
              "6"
            ]
          },
          "metadata": {},
          "execution_count": 15
        }
      ]
    },
    {
      "cell_type": "code",
      "metadata": {
        "id": "qW8Lu1MFYkaQ",
        "colab": {
          "base_uri": "https://localhost:8080/"
        },
        "outputId": "e1f13137-4a27-4a4b-ed57-20cc001f1b5a"
      },
      "source": [
        "14679/56"
      ],
      "execution_count": null,
      "outputs": [
        {
          "output_type": "execute_result",
          "data": {
            "text/plain": [
              "262.125"
            ]
          },
          "metadata": {},
          "execution_count": 16
        }
      ]
    },
    {
      "cell_type": "code",
      "source": [
        "14679//56"
      ],
      "metadata": {
        "id": "F8Zh8iuVOlEI",
        "colab": {
          "base_uri": "https://localhost:8080/"
        },
        "outputId": "16310af9-c41a-4170-e5d4-1e8fe29613d1"
      },
      "execution_count": null,
      "outputs": [
        {
          "output_type": "execute_result",
          "data": {
            "text/plain": [
              "262"
            ]
          },
          "metadata": {},
          "execution_count": 17
        }
      ]
    },
    {
      "cell_type": "code",
      "source": [
        "14679%56"
      ],
      "metadata": {
        "id": "4V4nALNcOo9A",
        "colab": {
          "base_uri": "https://localhost:8080/"
        },
        "outputId": "b12b73c1-9c6b-4b09-ec17-b6272bab5a3d"
      },
      "execution_count": null,
      "outputs": [
        {
          "output_type": "execute_result",
          "data": {
            "text/plain": [
              "7"
            ]
          },
          "metadata": {},
          "execution_count": 18
        }
      ]
    },
    {
      "cell_type": "markdown",
      "metadata": {
        "id": "4FrYY5n_EnkI"
      },
      "source": [
        "Boolean operators\n",
        "\n",
        "and\t- conjunction\\\n",
        "or\t- disjunction\\\n",
        "not\t- negation"
      ]
    },
    {
      "cell_type": "code",
      "metadata": {
        "id": "50W-0rEFm60m",
        "colab": {
          "base_uri": "https://localhost:8080/"
        },
        "outputId": "3e880bec-fe38-49f6-f20f-699bc125c877"
      },
      "source": [
        "1 == 0"
      ],
      "execution_count": null,
      "outputs": [
        {
          "output_type": "execute_result",
          "data": {
            "text/plain": [
              "False"
            ]
          },
          "metadata": {},
          "execution_count": 19
        }
      ]
    },
    {
      "cell_type": "code",
      "metadata": {
        "id": "hnpktzBFm-cV"
      },
      "source": [
        "not (1 == 0)"
      ],
      "execution_count": null,
      "outputs": []
    },
    {
      "cell_type": "code",
      "metadata": {
        "id": "YarEg9iRnBQl"
      },
      "source": [
        "(2 == 2) and (2 == 3)"
      ],
      "execution_count": null,
      "outputs": []
    },
    {
      "cell_type": "code",
      "metadata": {
        "id": "Ir8GVtg5nDU_"
      },
      "source": [
        "(2 == 2) or (2 == 3)"
      ],
      "execution_count": null,
      "outputs": []
    },
    {
      "cell_type": "markdown",
      "metadata": {
        "id": "dbXZGXEvFDRw"
      },
      "source": [
        "## **Variables**\n",
        "Variables are containers. They allow you to store data values.\n"
      ]
    },
    {
      "cell_type": "markdown",
      "metadata": {
        "id": "hulGGWoUZRbp"
      },
      "source": [
        "To define a variable \"s\" use the [=]."
      ]
    },
    {
      "cell_type": "code",
      "metadata": {
        "id": "MLlIEfCOnVNG"
      },
      "source": [
        "s = 'hello world'"
      ],
      "execution_count": null,
      "outputs": []
    },
    {
      "cell_type": "code",
      "metadata": {
        "id": "HWcE7TrNnhYG",
        "colab": {
          "base_uri": "https://localhost:8080/"
        },
        "outputId": "d2db2825-54a4-4133-b533-6daedb066451"
      },
      "source": [
        "print(s)"
      ],
      "execution_count": null,
      "outputs": [
        {
          "output_type": "stream",
          "name": "stdout",
          "text": [
            "hello world\n"
          ]
        }
      ]
    },
    {
      "cell_type": "markdown",
      "metadata": {
        "id": "tCXxIiVRaIQT"
      },
      "source": [
        "You can overwrite the value associated to a variable."
      ]
    },
    {
      "cell_type": "code",
      "metadata": {
        "id": "p2nVJjwsaEfy"
      },
      "source": [
        "s = 'hello once again'"
      ],
      "execution_count": null,
      "outputs": []
    },
    {
      "cell_type": "markdown",
      "metadata": {
        "id": "3xx-kdesZX89"
      },
      "source": [
        "As we did previously, you can use a built-in method (i.e., `.upper()`) to change the variable `s`."
      ]
    },
    {
      "cell_type": "code",
      "metadata": {
        "id": "s29-cu-EnkT2",
        "colab": {
          "base_uri": "https://localhost:8080/",
          "height": 35
        },
        "outputId": "32c6fa00-d665-41bd-e132-eb222ac664fa"
      },
      "source": [
        "s.upper()"
      ],
      "execution_count": null,
      "outputs": [
        {
          "output_type": "execute_result",
          "data": {
            "text/plain": [
              "'HELLO ONCE AGAIN'"
            ],
            "application/vnd.google.colaboratory.intrinsic+json": {
              "type": "string"
            }
          },
          "metadata": {},
          "execution_count": 23
        }
      ]
    },
    {
      "cell_type": "code",
      "metadata": {
        "id": "KqbfSr46nmwW",
        "colab": {
          "base_uri": "https://localhost:8080/"
        },
        "outputId": "50600986-0a8d-4e46-b1f9-353a00672d43"
      },
      "source": [
        "len(s.upper())"
      ],
      "execution_count": null,
      "outputs": [
        {
          "output_type": "execute_result",
          "data": {
            "text/plain": [
              "16"
            ]
          },
          "metadata": {},
          "execution_count": 24
        }
      ]
    },
    {
      "cell_type": "code",
      "metadata": {
        "id": "9cuMBKzvnoZm"
      },
      "source": [
        "s = 8.0"
      ],
      "execution_count": null,
      "outputs": []
    },
    {
      "cell_type": "markdown",
      "metadata": {
        "id": "0XQwUVbuZw8D"
      },
      "source": [
        "You can use operator assignment to modify a variable"
      ]
    },
    {
      "cell_type": "code",
      "metadata": {
        "id": "6bzpkYhDnp0O"
      },
      "source": [
        "matteo += 2.5"
      ],
      "execution_count": null,
      "outputs": []
    },
    {
      "cell_type": "code",
      "metadata": {
        "id": "PuNzFwM0nrUe",
        "colab": {
          "base_uri": "https://localhost:8080/"
        },
        "outputId": "c7dd6d67-8b01-4b91-a473-29dd53b6bd16"
      },
      "source": [
        "print(matteo)"
      ],
      "execution_count": null,
      "outputs": [
        {
          "output_type": "stream",
          "name": "stdout",
          "text": [
            "15.5\n"
          ]
        }
      ]
    },
    {
      "cell_type": "code",
      "source": [
        "s"
      ],
      "metadata": {
        "colab": {
          "base_uri": "https://localhost:8080/"
        },
        "id": "ViN8W0c8c_lw",
        "outputId": "d02a8fc0-6024-4988-f593-732951523253"
      },
      "execution_count": null,
      "outputs": [
        {
          "output_type": "execute_result",
          "data": {
            "text/plain": [
              "8.0"
            ]
          },
          "metadata": {},
          "execution_count": 37
        }
      ]
    },
    {
      "cell_type": "markdown",
      "metadata": {
        "id": "joEQKgYBalby"
      },
      "source": [
        "#### **Quick Quiz**\n",
        "What would have happened if we were using`=` instead of `+=`?"
      ]
    },
    {
      "cell_type": "markdown",
      "metadata": {
        "id": "7Sws63NMF5xZ"
      },
      "source": [
        "## **Built-in Data Structures**"
      ]
    },
    {
      "cell_type": "markdown",
      "metadata": {
        "id": "3bzfv4pQF9_-"
      },
      "source": [
        "### Lists\n",
        "Lists store a sequence of mutable items. A mutable item is an object whose value can change once created."
      ]
    },
    {
      "cell_type": "code",
      "metadata": {
        "id": "M6VJfw1mGHCD"
      },
      "source": [
        "students = ['Jonas', 'Charlotte', 'Sina', 'Giulia']"
      ],
      "execution_count": null,
      "outputs": []
    },
    {
      "cell_type": "markdown",
      "metadata": {
        "id": "FmQI5VQU_Yuh"
      },
      "source": [
        "You can access the items in the list using their index. The index is the number that corresponds to the position of the item in the list.  \n",
        "**Be careful**, in Python, indexing starts at 0 (i.e., the first item has 0 as index).\n",
        "\n"
      ]
    },
    {
      "cell_type": "code",
      "metadata": {
        "id": "2Yl1R1QuGLHq",
        "colab": {
          "base_uri": "https://localhost:8080/",
          "height": 35
        },
        "outputId": "8ce01727-30fc-4be2-d788-65e2930f38dd"
      },
      "source": [
        "students[0]"
      ],
      "execution_count": null,
      "outputs": [
        {
          "output_type": "execute_result",
          "data": {
            "text/plain": [
              "'Jonas'"
            ],
            "application/vnd.google.colaboratory.intrinsic+json": {
              "type": "string"
            }
          },
          "metadata": {},
          "execution_count": 4
        }
      ]
    },
    {
      "cell_type": "code",
      "metadata": {
        "id": "QphCwMWECOLj"
      },
      "source": [
        "students[2] = 'Silvia'\n",
        "students"
      ],
      "execution_count": null,
      "outputs": []
    },
    {
      "cell_type": "markdown",
      "metadata": {
        "id": "YmxCuemzAVd7"
      },
      "source": [
        "#### **Quick Quiz**\n",
        "Given the list `students = ['Jonas', 'Charlotte', 'Sina', 'Giulia']`\n",
        "What is the index to select Giulia?"
      ]
    },
    {
      "cell_type": "code",
      "source": [
        "students[3]"
      ],
      "metadata": {
        "id": "rrVXw9T2xadA",
        "colab": {
          "base_uri": "https://localhost:8080/",
          "height": 35
        },
        "outputId": "9f3448f9-b4fc-440f-98c2-1dd4234bca02"
      },
      "execution_count": null,
      "outputs": [
        {
          "output_type": "execute_result",
          "data": {
            "text/plain": [
              "'Giulia'"
            ],
            "application/vnd.google.colaboratory.intrinsic+json": {
              "type": "string"
            }
          },
          "metadata": {},
          "execution_count": 6
        }
      ]
    },
    {
      "cell_type": "markdown",
      "metadata": {
        "id": "6ddxFuo-GOt6"
      },
      "source": [
        "List concatenation with [+] operator"
      ]
    },
    {
      "cell_type": "code",
      "metadata": {
        "id": "cOhIiNt6GTzf",
        "colab": {
          "base_uri": "https://localhost:8080/"
        },
        "outputId": "ad581a49-8ebc-47a1-d70e-538248f1c2b8"
      },
      "source": [
        "otherStudents = ['Hanyu', 'Marie-Sophie']\n",
        "allstudents = students + otherStudents\n",
        "allstudents"
      ],
      "execution_count": null,
      "outputs": [
        {
          "output_type": "execute_result",
          "data": {
            "text/plain": [
              "['Jonas', 'Charlotte', 'Silvia', 'Giulia', 'Hanyu', 'Marie-Sophie']"
            ]
          },
          "metadata": {},
          "execution_count": 7
        }
      ]
    },
    {
      "cell_type": "markdown",
      "metadata": {
        "id": "uvBIZLiVGij3"
      },
      "source": [
        "Negative-indexing from the back of the list"
      ]
    },
    {
      "cell_type": "code",
      "metadata": {
        "id": "n4WMzh7jGWPW",
        "colab": {
          "base_uri": "https://localhost:8080/",
          "height": 35
        },
        "outputId": "c4b74af9-6d9a-4595-8a1c-d2497b527264"
      },
      "source": [
        "allstudents[-2]"
      ],
      "execution_count": null,
      "outputs": [
        {
          "output_type": "execute_result",
          "data": {
            "text/plain": [
              "'Hanyu'"
            ],
            "application/vnd.google.colaboratory.intrinsic+json": {
              "type": "string"
            }
          },
          "metadata": {},
          "execution_count": 58
        }
      ]
    },
    {
      "cell_type": "code",
      "metadata": {
        "id": "tAR0VQdAGolH",
        "colab": {
          "base_uri": "https://localhost:8080/"
        },
        "outputId": "61ea5776-34ea-4eb3-f4ea-3c7e78ac746b"
      },
      "source": [
        "students.pop()\n",
        "students"
      ],
      "execution_count": null,
      "outputs": [
        {
          "output_type": "execute_result",
          "data": {
            "text/plain": [
              "['Jonas', 'Charlotte']"
            ]
          },
          "metadata": {},
          "execution_count": 60
        }
      ]
    },
    {
      "cell_type": "code",
      "source": [
        "students.pop(0)"
      ],
      "metadata": {
        "id": "s15aVWI0P9g0"
      },
      "execution_count": null,
      "outputs": []
    },
    {
      "cell_type": "code",
      "metadata": {
        "id": "agm7UfXdGziT"
      },
      "source": [
        "students"
      ],
      "execution_count": null,
      "outputs": []
    },
    {
      "cell_type": "code",
      "metadata": {
        "id": "sja3bavvG1QY"
      },
      "source": [
        "students.append('Eleonora')"
      ],
      "execution_count": null,
      "outputs": []
    },
    {
      "cell_type": "code",
      "metadata": {
        "id": "X8HNsG9cG8ci"
      },
      "source": [
        "students[-1] = 'Matko'"
      ],
      "execution_count": null,
      "outputs": []
    },
    {
      "cell_type": "code",
      "metadata": {
        "id": "IZu-Kt-tG-9s"
      },
      "source": [
        "students"
      ],
      "execution_count": null,
      "outputs": []
    },
    {
      "cell_type": "markdown",
      "metadata": {
        "id": "fUFy9JYYHNa_"
      },
      "source": [
        " Index multiple adjacent elements using the **slice operator** (e.g., students[start:stop])"
      ]
    },
    {
      "cell_type": "code",
      "metadata": {
        "id": "6YhY9bnuHAyu"
      },
      "source": [
        "students[0:2]"
      ],
      "execution_count": null,
      "outputs": []
    },
    {
      "cell_type": "code",
      "metadata": {
        "id": "XrvYzAblHCkV"
      },
      "source": [
        "students[:3]"
      ],
      "execution_count": null,
      "outputs": []
    },
    {
      "cell_type": "code",
      "metadata": {
        "id": "yv_MjnikHFO-",
        "colab": {
          "base_uri": "https://localhost:8080/"
        },
        "outputId": "0fcf27fb-8cb8-4011-f188-cc42354301c3"
      },
      "source": [
        "#students[start:]\n",
        "students[2:]"
      ],
      "execution_count": null,
      "outputs": [
        {
          "output_type": "execute_result",
          "data": {
            "text/plain": [
              "['Matko']"
            ]
          },
          "metadata": {},
          "execution_count": 59
        }
      ]
    },
    {
      "cell_type": "code",
      "source": [
        "allstudents[2:]"
      ],
      "metadata": {
        "colab": {
          "base_uri": "https://localhost:8080/"
        },
        "id": "0oOr9cyuQTh2",
        "outputId": "f7b3c794-b251-40ce-9311-d21982584063"
      },
      "execution_count": null,
      "outputs": [
        {
          "output_type": "execute_result",
          "data": {
            "text/plain": [
              "['Hanyu', 'Marie-Sophie']"
            ]
          },
          "metadata": {},
          "execution_count": 60
        }
      ]
    },
    {
      "cell_type": "code",
      "metadata": {
        "id": "ehRiNkQvHG7m"
      },
      "source": [
        "len(students)"
      ],
      "execution_count": null,
      "outputs": []
    },
    {
      "cell_type": "code",
      "source": [
        "len(allstudents)"
      ],
      "metadata": {
        "id": "MfbVk2aYQeMy"
      },
      "execution_count": null,
      "outputs": []
    },
    {
      "cell_type": "markdown",
      "metadata": {
        "id": "ZV3VYmWmVJHi"
      },
      "source": [
        "List can be any datatype"
      ]
    },
    {
      "cell_type": "code",
      "metadata": {
        "id": "QGfw_IMaHqJ5"
      },
      "source": [
        "lstOfLsts = [['carrots', 'apples', 'oranges'], [1, 2, 3], ['one', 'two', 'three']]"
      ],
      "execution_count": null,
      "outputs": []
    },
    {
      "cell_type": "markdown",
      "metadata": {
        "id": "c56Tpdm5Ve37"
      },
      "source": [
        "You can access an element embedded in a list by first selecting the index of the list and then the index of the element in the selected list. In this case we are selecting the third element of the second list."
      ]
    },
    {
      "cell_type": "code",
      "metadata": {
        "id": "BfyrDxz_HwLi"
      },
      "source": [
        "lstOfLsts[1][2]"
      ],
      "execution_count": null,
      "outputs": []
    },
    {
      "cell_type": "code",
      "metadata": {
        "id": "NDs6TVe4HwYD"
      },
      "source": [
        "lstOfLsts[0].pop()"
      ],
      "execution_count": null,
      "outputs": []
    },
    {
      "cell_type": "code",
      "metadata": {
        "id": "mhRYYuoFH0y-"
      },
      "source": [
        "lstOfLsts"
      ],
      "execution_count": null,
      "outputs": []
    },
    {
      "cell_type": "code",
      "metadata": {
        "id": "EKjJgYE8H0-P"
      },
      "source": [
        "dir(list)"
      ],
      "execution_count": null,
      "outputs": []
    },
    {
      "cell_type": "code",
      "metadata": {
        "id": "4Et0ic8QIE96"
      },
      "source": [
        "help(list.reverse)"
      ],
      "execution_count": null,
      "outputs": []
    },
    {
      "cell_type": "code",
      "metadata": {
        "id": "RvrLoqrfIHMV"
      },
      "source": [
        "lst = ['a', 'b', 'c']"
      ],
      "execution_count": null,
      "outputs": []
    },
    {
      "cell_type": "code",
      "metadata": {
        "id": "VWX6DlQ2IJAZ"
      },
      "source": [
        "lst.reverse()"
      ],
      "execution_count": null,
      "outputs": []
    },
    {
      "cell_type": "markdown",
      "metadata": {
        "id": "1RtZEvbSLMPC"
      },
      "source": [
        "To check if an element is part of a list you can use the `in` keyword.\\\n",
        "Python has a set of keywords that are reserved words that cannot be used as variable names, function names, or any other identifiers:"
      ]
    },
    {
      "cell_type": "code",
      "metadata": {
        "id": "EGGwyWjiLJYM"
      },
      "source": [
        "a in lst"
      ],
      "execution_count": null,
      "outputs": []
    },
    {
      "cell_type": "code",
      "metadata": {
        "id": "EbLQ8nnxK8eu"
      },
      "source": [
        "'a' in lst"
      ],
      "execution_count": null,
      "outputs": []
    },
    {
      "cell_type": "code",
      "metadata": {
        "id": "0M37C8RiKvM6"
      },
      "source": [
        "my_super_string = 'all I want is pizza'"
      ],
      "execution_count": null,
      "outputs": []
    },
    {
      "cell_type": "code",
      "metadata": {
        "id": "43QLhT53KwhC"
      },
      "source": [
        "print('pizza' in my_super_string)"
      ],
      "execution_count": null,
      "outputs": []
    },
    {
      "cell_type": "markdown",
      "metadata": {
        "id": "UyOZZPKnBcdt"
      },
      "source": [
        "#### **Quick Quiz**\n",
        "\n",
        "What is the output of the `print()` function call?\n",
        "```\n",
        "s = 'foo'\n",
        "t = 'bar'\n",
        "print('barf' in 2 * (s + t))\n",
        "```\n",
        "\n"
      ]
    },
    {
      "cell_type": "markdown",
      "source": [
        "*Add here you answer*"
      ],
      "metadata": {
        "id": "eBiM96Twxg1j"
      }
    },
    {
      "cell_type": "markdown",
      "metadata": {
        "id": "YSsZg-cMF1ys"
      },
      "source": [
        "Specifying **strides/steps** while slicing strings."
      ]
    },
    {
      "cell_type": "code",
      "metadata": {
        "id": "y9dArrokF_8M"
      },
      "source": [
        "my_passion = 'I like bikes, I like every kind of bike'"
      ],
      "execution_count": null,
      "outputs": []
    },
    {
      "cell_type": "code",
      "metadata": {
        "id": "US7r4yYoGb3c"
      },
      "source": [
        "print(my_passion[13:])"
      ],
      "execution_count": null,
      "outputs": []
    },
    {
      "cell_type": "code",
      "metadata": {
        "id": "6ro4sGocGloN"
      },
      "source": [
        "print(my_passion[0:15:3])"
      ],
      "execution_count": null,
      "outputs": []
    },
    {
      "cell_type": "markdown",
      "metadata": {
        "id": "-2008UQ6IB4u"
      },
      "source": [
        "Specifying the stride of 3 as the last parameter in the Python syntax my_passion[0:25:3] prints only every three character."
      ]
    },
    {
      "cell_type": "markdown",
      "source": [
        "#### **Quick Quiz**\n",
        "**Each character in a string has an index**.\\\n",
        "For the string Arnaud Rocks! the index breakdown is as follows:\n",
        "```\n",
        "Arnaud Rocks !\n",
        "0123456789101112\n",
        "```\n",
        "What is the slice expression that gives every third character of string `Arnaud Rocks!`?"
      ],
      "metadata": {
        "id": "coAkEmeazlUT"
      }
    },
    {
      "cell_type": "code",
      "source": [
        "#add here you code\n",
        "a= 'Arnaud Rocks!'\n",
        "a[1::3]"
      ],
      "metadata": {
        "id": "G73b5Tq9RiEo",
        "colab": {
          "base_uri": "https://localhost:8080/",
          "height": 35
        },
        "outputId": "58a988bc-fff6-4088-9be7-583a0c3355cb"
      },
      "execution_count": null,
      "outputs": [
        {
          "output_type": "execute_result",
          "data": {
            "text/plain": [
              "'ruRk'"
            ],
            "application/vnd.google.colaboratory.intrinsic+json": {
              "type": "string"
            }
          },
          "metadata": {},
          "execution_count": 8
        }
      ]
    },
    {
      "cell_type": "markdown",
      "metadata": {
        "id": "NcGIUOukILKf"
      },
      "source": [
        "### **Tuples**\n",
        "Tuples are like a lists except that they are immutable once they are created (i.e. you cannot change its content once created)"
      ]
    },
    {
      "cell_type": "code",
      "metadata": {
        "id": "dVb2R3eXINUk"
      },
      "source": [
        "pair = (3, 5)"
      ],
      "execution_count": null,
      "outputs": []
    },
    {
      "cell_type": "code",
      "metadata": {
        "id": "EjNyVc_iIigM"
      },
      "source": [
        "pair[0]"
      ],
      "execution_count": null,
      "outputs": []
    },
    {
      "cell_type": "code",
      "metadata": {
        "id": "gEDZ1sKAIqLy"
      },
      "source": [
        " x, y = pair"
      ],
      "execution_count": null,
      "outputs": []
    },
    {
      "cell_type": "code",
      "metadata": {
        "id": "FuIXeJodIqtN"
      },
      "source": [
        "x"
      ],
      "execution_count": null,
      "outputs": []
    },
    {
      "cell_type": "code",
      "metadata": {
        "id": "BCtmYVIQIq1r"
      },
      "source": [
        "y"
      ],
      "execution_count": null,
      "outputs": []
    },
    {
      "cell_type": "code",
      "source": [
        "pair[1] = 6"
      ],
      "metadata": {
        "id": "m1Vwsx1LTy4C"
      },
      "execution_count": null,
      "outputs": []
    },
    {
      "cell_type": "markdown",
      "source": [
        "The attempt to modify an immutable structure raised an exception. Exceptions indicate errors: index out of bounds errors, type errors, and so on will all report exceptions in this way."
      ],
      "metadata": {
        "id": "puOI-LMjUvqk"
      }
    },
    {
      "cell_type": "markdown",
      "metadata": {
        "id": "NbNjP-JcI5Vw"
      },
      "source": [
        "### **Sets**\n",
        "Sets are unordered lists with no duplicate items.\n",
        "An advantage of sets vs lists and tuples is that they remove duplicate values."
      ]
    },
    {
      "cell_type": "code",
      "metadata": {
        "id": "r2Zsn4k9JKiT"
      },
      "source": [
        " shapes = ['circle', 'square', 'triangle', 'circle']"
      ],
      "execution_count": null,
      "outputs": []
    },
    {
      "cell_type": "code",
      "metadata": {
        "id": "tH0n6v6OJMD4"
      },
      "source": [
        "setOfShapes = set(shapes)"
      ],
      "execution_count": null,
      "outputs": []
    },
    {
      "cell_type": "code",
      "metadata": {
        "id": "HPypZbVqJOKd",
        "colab": {
          "base_uri": "https://localhost:8080/"
        },
        "outputId": "ff520b3a-5ef2-4474-e862-4c069ea00227"
      },
      "source": [
        "setOfShapes"
      ],
      "execution_count": null,
      "outputs": [
        {
          "output_type": "execute_result",
          "data": {
            "text/plain": [
              "{'circle', 'square', 'triangle'}"
            ]
          },
          "metadata": {},
          "execution_count": 11
        }
      ]
    },
    {
      "cell_type": "code",
      "metadata": {
        "id": "mnJd80srJYjL"
      },
      "source": [
        "setOfShapes.add('polygon')"
      ],
      "execution_count": null,
      "outputs": []
    },
    {
      "cell_type": "code",
      "metadata": {
        "id": "LOCnAYGkJafx",
        "colab": {
          "base_uri": "https://localhost:8080/"
        },
        "outputId": "67a098b9-e5a2-4319-a625-ffee27b9ec5d"
      },
      "source": [
        "setOfShapes"
      ],
      "execution_count": null,
      "outputs": [
        {
          "output_type": "execute_result",
          "data": {
            "text/plain": [
              "{'circle', 'polygon', 'square', 'triangle'}"
            ]
          },
          "metadata": {},
          "execution_count": 13
        }
      ]
    },
    {
      "cell_type": "markdown",
      "source": [
        "Checking if there is a specific element in the set"
      ],
      "metadata": {
        "id": "xNZKK70sxwMe"
      }
    },
    {
      "cell_type": "code",
      "metadata": {
        "id": "IbOatRocJdud",
        "colab": {
          "base_uri": "https://localhost:8080/"
        },
        "outputId": "08105643-3a76-4d2e-b1eb-e636a803929e"
      },
      "source": [
        "'circle' in setOfShapes\n"
      ],
      "execution_count": null,
      "outputs": [
        {
          "output_type": "execute_result",
          "data": {
            "text/plain": [
              "True"
            ]
          },
          "metadata": {},
          "execution_count": 14
        }
      ]
    },
    {
      "cell_type": "markdown",
      "metadata": {
        "id": "5ZVK1sN_JoWz"
      },
      "source": [
        "### **Dictionaries**\n",
        "Dictionaries store a map from one type of object (the key) to another (the value). The key must be an immutable type (string, number, or tuple). The value can be any Python data type. For instance, a dictionary can contain an address book and you access each contact by specifying its name."
      ]
    },
    {
      "cell_type": "code",
      "metadata": {
        "id": "Dl9Nv_O5Kerx",
        "colab": {
          "base_uri": "https://localhost:8080/"
        },
        "outputId": "aadcb253-5ed5-43a9-e1e3-8c6ee3ce9769"
      },
      "source": [
        "my_dic = {}\n",
        "my_dic[\"first_name\"] = \"Arnaud\"\n",
        "my_dic[\"surname\"] = \"Weiss\"\n",
        "my_dic[\"work\"] = \"President\"\n",
        "my_dic\n"
      ],
      "execution_count": null,
      "outputs": [
        {
          "output_type": "execute_result",
          "data": {
            "text/plain": [
              "{'first_name': 'Arnaud', 'surname': 'Weiss', 'work': 'President'}"
            ]
          },
          "metadata": {},
          "execution_count": 15
        }
      ]
    },
    {
      "cell_type": "markdown",
      "metadata": {
        "id": "HB5OlVhbTtsY"
      },
      "source": [
        "You can access a value using its key"
      ]
    },
    {
      "cell_type": "code",
      "metadata": {
        "id": "jfYYV_tPKgTi",
        "colab": {
          "base_uri": "https://localhost:8080/",
          "height": 35
        },
        "outputId": "0a1600e2-2de9-4d79-9ea0-5a0ef3e92e14"
      },
      "source": [
        "my_dic['first_name']"
      ],
      "execution_count": null,
      "outputs": [
        {
          "output_type": "execute_result",
          "data": {
            "text/plain": [
              "'Arnaud'"
            ],
            "application/vnd.google.colaboratory.intrinsic+json": {
              "type": "string"
            }
          },
          "metadata": {},
          "execution_count": 16
        }
      ]
    },
    {
      "cell_type": "markdown",
      "metadata": {
        "id": "yrjw4dyDTzP0"
      },
      "source": [
        "It is possible to re-assign a value associated with a key"
      ]
    },
    {
      "cell_type": "code",
      "metadata": {
        "id": "-p1AEHCOKiIL"
      },
      "source": [
        "my_dic['work'] = 'Professor'\n",
        "my_dic"
      ],
      "execution_count": null,
      "outputs": []
    },
    {
      "cell_type": "markdown",
      "metadata": {
        "id": "JhVbSuwvT8tK"
      },
      "source": [
        "You can use `del` to delete an element of the dictionary (key and value)"
      ]
    },
    {
      "cell_type": "code",
      "metadata": {
        "id": "Alf1GrfxKm6l"
      },
      "source": [
        "del my_dic['first_name']\n",
        "my_dic"
      ],
      "execution_count": null,
      "outputs": []
    },
    {
      "cell_type": "markdown",
      "metadata": {
        "id": "JVCNgrLFUOii"
      },
      "source": [
        "It is also possible to assign a list of value to a key"
      ]
    },
    {
      "cell_type": "code",
      "metadata": {
        "id": "Ta57SUh6KqiD",
        "colab": {
          "base_uri": "https://localhost:8080/"
        },
        "outputId": "919bbaaa-9248-4861-d80c-9878f88bd217"
      },
      "source": [
        "my_dic['work'] = ['Professor', 'President']\n",
        "my_dic"
      ],
      "execution_count": null,
      "outputs": [
        {
          "output_type": "execute_result",
          "data": {
            "text/plain": [
              "{'surname': 'Weiss', 'work': ['Professor', 'President']}"
            ]
          },
          "metadata": {},
          "execution_count": 114
        }
      ]
    },
    {
      "cell_type": "markdown",
      "metadata": {
        "id": "d1kerNQSUbbM"
      },
      "source": [
        "Access the list of keys"
      ]
    },
    {
      "cell_type": "code",
      "metadata": {
        "id": "MkuWAiOrKt1P",
        "colab": {
          "base_uri": "https://localhost:8080/"
        },
        "outputId": "ca9643a0-8306-4810-c7ce-2c53739b5b51"
      },
      "source": [
        "my_dic.keys()"
      ],
      "execution_count": null,
      "outputs": [
        {
          "output_type": "execute_result",
          "data": {
            "text/plain": [
              "dict_keys(['first_name', 'surname', 'work'])"
            ]
          },
          "metadata": {},
          "execution_count": 17
        }
      ]
    },
    {
      "cell_type": "markdown",
      "metadata": {
        "id": "GYo__37UUenj"
      },
      "source": [
        "Access the list of values"
      ]
    },
    {
      "cell_type": "code",
      "metadata": {
        "id": "dpXiEfuiKv8z"
      },
      "source": [
        "my_dic.values()"
      ],
      "execution_count": null,
      "outputs": []
    },
    {
      "cell_type": "markdown",
      "metadata": {
        "id": "F0SK3U1HUnwR"
      },
      "source": [
        "Access a view object that displays a list of a given dictionary's (key, value) tuple pair"
      ]
    },
    {
      "cell_type": "code",
      "metadata": {
        "id": "mDrDcHZFKxzn"
      },
      "source": [
        "my_dic.items()"
      ],
      "execution_count": null,
      "outputs": []
    },
    {
      "cell_type": "markdown",
      "metadata": {
        "id": "y6Dg17L7U48a"
      },
      "source": [
        "Check the length of the dictionary"
      ]
    },
    {
      "cell_type": "code",
      "metadata": {
        "id": "gtW2JayuKzdX"
      },
      "source": [
        "len(my_dic)"
      ],
      "execution_count": null,
      "outputs": []
    },
    {
      "cell_type": "code",
      "source": [
        "my_dic['arnaud']"
      ],
      "metadata": {
        "id": "4Fin2iCzWQWA",
        "colab": {
          "base_uri": "https://localhost:8080/",
          "height": 168
        },
        "outputId": "e58fb0d9-0b5a-4243-a8ce-95f1ebdfe75b"
      },
      "execution_count": null,
      "outputs": [
        {
          "output_type": "error",
          "ename": "KeyError",
          "evalue": "ignored",
          "traceback": [
            "\u001b[0;31m---------------------------------------------------------------------------\u001b[0m",
            "\u001b[0;31mKeyError\u001b[0m                                  Traceback (most recent call last)",
            "\u001b[0;32m<ipython-input-18-77fcea0edc99>\u001b[0m in \u001b[0;36m<module>\u001b[0;34m\u001b[0m\n\u001b[0;32m----> 1\u001b[0;31m \u001b[0mmy_dic\u001b[0m\u001b[0;34m[\u001b[0m\u001b[0;34m'arnaud'\u001b[0m\u001b[0;34m]\u001b[0m\u001b[0;34m\u001b[0m\u001b[0;34m\u001b[0m\u001b[0m\n\u001b[0m",
            "\u001b[0;31mKeyError\u001b[0m: 'arnaud'"
          ]
        }
      ]
    },
    {
      "cell_type": "markdown",
      "metadata": {
        "id": "_NlJZBHzR6so"
      },
      "source": [
        "If the key does not exist in the dictionary, a KeyError exception will be thrown.\n",
        "Dictionaries can contain other objects. These objects are placed and accessed through keys. A dictionary can not naturally contain two identical keys. On the other hand, nothing prevents to have two identical values in the dictionary.\n",
        "Be careful, however, a dictionary does not have an ordered structure. If we delete a key, the dictionary, unlike lists, will not shift all index keys above the deleted index."
      ]
    },
    {
      "cell_type": "markdown",
      "metadata": {
        "id": "mZ3tvfgrLEsE"
      },
      "source": [
        "## **Writing Scripts**"
      ]
    },
    {
      "cell_type": "markdown",
      "metadata": {
        "id": "wulvEEjKLhP8"
      },
      "source": [
        "###**Control Structures** and **Loops**"
      ]
    },
    {
      "cell_type": "code",
      "metadata": {
        "id": "h2TS5JqSLHpd"
      },
      "source": [
        "# This is what a comment looks like\n",
        "students = ['Jonas', 'Charlotte', 'Sina', 'Giulia']\n",
        "# for statement\n",
        "for student in students:\n",
        "    print(student + ' has a passion!'+ '\\n' )\n",
        "\n",
        "studentsPassions = {'Jonas': 'playing guitar', 'Charlotte': 'climbing', 'Sina': 'biking', 'Giulia': 'surfing'}\n",
        "for student, passion in studentsPassions.items():\n",
        "    # if statement\n",
        "    if passion == 'biking':\n",
        "        print('I like ' + passion + ' more')\n",
        "    else:\n",
        "        print(passion + ' is cool!')"
      ],
      "execution_count": null,
      "outputs": []
    },
    {
      "cell_type": "markdown",
      "metadata": {
        "id": "v-xUU94QMXF-"
      },
      "source": [
        "#### If Statement\n",
        "find more on: https://docs.python.org/3.6/tutorial/controlflow.html#if-statements"
      ]
    },
    {
      "cell_type": "code",
      "metadata": {
        "id": "v9B2vlHwL7vH"
      },
      "source": [
        "x = int(input(\"Please enter an integer: \"))"
      ],
      "execution_count": null,
      "outputs": []
    },
    {
      "cell_type": "code",
      "metadata": {
        "id": "enQa7xwoMBEa"
      },
      "source": [
        "if x < 0:\n",
        "  x = 0\n",
        "  print('Negative changed to zero')\n",
        "elif x == 0:\n",
        "  print('Zero')\n",
        "elif x == 1:\n",
        "  print('Single')\n",
        "else:\n",
        "  print('More')"
      ],
      "execution_count": null,
      "outputs": []
    },
    {
      "cell_type": "code",
      "metadata": {
        "id": "AGZu8366TVa0"
      },
      "source": [
        "var1 = 6\n",
        "var2 = 3\n",
        "\n",
        "if var1 > var2:\n",
        "  print(\"This is also True\")\n",
        "else:\n",
        "  print(\"That was False!\")"
      ],
      "execution_count": null,
      "outputs": []
    },
    {
      "cell_type": "code",
      "metadata": {
        "id": "rZaD0N4nTY09"
      },
      "source": [
        "value = input('Type a number ')"
      ],
      "execution_count": null,
      "outputs": []
    },
    {
      "cell_type": "code",
      "metadata": {
        "id": "737kQ9IUTcyN"
      },
      "source": [
        "print(value)\n",
        "print(type(value))"
      ],
      "execution_count": null,
      "outputs": []
    },
    {
      "cell_type": "code",
      "metadata": {
        "id": "NjSzyoMNTiyU"
      },
      "source": [
        "value = input(\"Type a number \")\n",
        "value = int(value)\n",
        "\n",
        "if value < 10:\n",
        "  print(\"The value is smaller than 10!\")\n",
        "elif 10 <= value <= 20:\n",
        "  print(\"The value is larger than 10 but smaller than 20.\")\n",
        "else:\n",
        "    print(\"The value is larger than 20.\")"
      ],
      "execution_count": null,
      "outputs": []
    },
    {
      "cell_type": "code",
      "source": [
        "user_input = int(input(\"insert your password: \"))"
      ],
      "metadata": {
        "colab": {
          "base_uri": "https://localhost:8080/"
        },
        "id": "vJ6o2apsK1XW",
        "outputId": "65ed6641-0c81-4b83-b14f-accf527fa962"
      },
      "execution_count": null,
      "outputs": [
        {
          "name": "stdout",
          "output_type": "stream",
          "text": [
            "insert your password: 3805653\n"
          ]
        }
      ]
    },
    {
      "cell_type": "markdown",
      "metadata": {
        "id": "TV6JKeBBMbGW"
      },
      "source": [
        "#### **For Statement**"
      ]
    },
    {
      "cell_type": "code",
      "metadata": {
        "id": "HxHdNmBgMCsW"
      },
      "source": [
        "words = ['cat', 'window', 'defenestrate']"
      ],
      "execution_count": null,
      "outputs": []
    },
    {
      "cell_type": "code",
      "metadata": {
        "id": "jQ1xQnuGMewa"
      },
      "source": [
        "for w in words:\n",
        "  print(w, len(w))"
      ],
      "execution_count": null,
      "outputs": []
    },
    {
      "cell_type": "code",
      "source": [
        "professors = ['Jean','Pierre','Beatrice','Silvia','Lucien','Mark']\n",
        "genders = ['female','male','female','female','male','male']\n",
        "\n",
        "for (f,b) in zip(professors, genders):\n",
        "    print(\"name: \", f ,\"; gender: \", b)\n"
      ],
      "metadata": {
        "id": "ELFMtmLQa2cm"
      },
      "execution_count": null,
      "outputs": []
    },
    {
      "cell_type": "markdown",
      "source": [
        "**`zip() `**\n",
        "\n",
        "Return Value\n",
        "The `zip()` function returns an iterator of tuples based on the iterable objects.\n",
        "\n",
        "If we do not pass any parameter, `zip()` returns an empty iterator\n",
        "If a single iterable is passed, `zip()`returns an iterator of tuples with each tuple having only one element.\n",
        "If multiple iterables are passed, `zip()` returns an iterator of tuples with each tuple having elements from all the iterables.\n",
        "\n",
        "Suppose, two iterables are passed to `zip()`; one iterable containing three and other containing five elements. Then, the returned iterator will contain three tuples. It's because the iterator stops when the shortest iterable is exhausted."
      ],
      "metadata": {
        "id": "FPLLE40rnA05"
      }
    },
    {
      "cell_type": "code",
      "metadata": {
        "id": "ce6_c2VAOGqB"
      },
      "source": [
        "new_words = ['cat', 'elephant', 'room', 'window', 'bakery', 'defenestrate']"
      ],
      "execution_count": null,
      "outputs": []
    },
    {
      "cell_type": "code",
      "metadata": {
        "id": "UszgQUOAMlFW"
      },
      "source": [
        "for w in new_words[2:3]:  # Loop over a slice copy of the entire list.\n",
        "  if len(w) > 4 :\n",
        "    words.insert(0, w)"
      ],
      "execution_count": null,
      "outputs": []
    },
    {
      "cell_type": "code",
      "metadata": {
        "id": "SlNPQWk4MrOh"
      },
      "source": [
        "words"
      ],
      "execution_count": null,
      "outputs": []
    },
    {
      "cell_type": "code",
      "metadata": {
        "id": "8L_cEK-zPHos"
      },
      "source": [
        "for w in new_words[1:3]:  # Loop over a slice copy of the entire list.\n",
        "  print(w)\n"
      ],
      "execution_count": null,
      "outputs": []
    },
    {
      "cell_type": "code",
      "metadata": {
        "id": "I00qrLMoS4re"
      },
      "source": [
        "for k in range(10, 15):\n",
        "    print(k)"
      ],
      "execution_count": null,
      "outputs": []
    },
    {
      "cell_type": "markdown",
      "metadata": {
        "id": "yDKjflQYM1j4"
      },
      "source": [
        "Map and filter"
      ]
    },
    {
      "cell_type": "markdown",
      "source": [
        "The code of the lambda is typically a single expression without variables or if-statements, and does not use \"return\". Lambda is perfect where you have a short computation to write inline. Many programs have some sub-part which can be solved very compactly this way. For longer code, def is better.\n",
        "\n",
        "The map() function runs a lambda function over the list [1, 2, 3, 4, 5], building a list-like collection of the results, like this:\n",
        "\n",
        "![Capture d’écran du 2023-01-17 16-55-00.png](data:image/png;base64,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)\n",
        "\n",
        "for more about this, check: https://cs.stanford.edu/people/nick/py/python-map-lambda.html"
      ],
      "metadata": {
        "id": "xt8uMmhYcTy0"
      }
    },
    {
      "cell_type": "code",
      "metadata": {
        "id": "iqeVQDP5NCwg"
      },
      "source": [
        "list(map(lambda x: x * x, [1, 2, 3]))"
      ],
      "execution_count": null,
      "outputs": []
    },
    {
      "cell_type": "markdown",
      "source": [
        "As a companion to map(), the filter() function takes a function and a list, and returns a subsetted list of the elements where the function returns true.\n",
        "\n",
        "For example, given a list of strings, return a list of the strings where the length is greater than 3:\n",
        "\n",
        "![Capture d’écran du 2023-01-17 16-58-08.png](data:image/png;base64,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)"
      ],
      "metadata": {
        "id": "0uZvGztjc2Ao"
      }
    },
    {
      "cell_type": "code",
      "metadata": {
        "id": "6E8qDFJANEho"
      },
      "source": [
        "list(filter(lambda x: x > 3, [1, 2, 3, 4, 5, 4, 3, 2, 1]))"
      ],
      "execution_count": null,
      "outputs": []
    },
    {
      "cell_type": "markdown",
      "metadata": {
        "id": "00CWhW4PNL_w"
      },
      "source": [
        " List comprehension construction"
      ]
    },
    {
      "cell_type": "code",
      "metadata": {
        "id": "WxIOStbQNNUr"
      },
      "source": [
        "nums = [1, 2, 3, 4, 5, 6]\n",
        "plusOneNums = [x + 1 for x in nums]\n",
        "oddNums = [x for x in nums if x % 2 == 1]\n",
        "print(oddNums)\n",
        "oddNumsPlusOne = [x + 1 for x in nums if x % 2 == 1]\n",
        "print(oddNumsPlusOne)"
      ],
      "execution_count": null,
      "outputs": []
    },
    {
      "cell_type": "markdown",
      "source": [
        "### **While loops**"
      ],
      "metadata": {
        "id": "QoMq9g4r3fOY"
      }
    },
    {
      "cell_type": "code",
      "source": [
        "n = int(input(\"tell me a number: \"))\n",
        "while n < 20:\n",
        "  n+=1\n",
        "  print(n)\n"
      ],
      "metadata": {
        "id": "OPCMs1mI3d0m"
      },
      "execution_count": null,
      "outputs": []
    },
    {
      "cell_type": "markdown",
      "source": [
        "# **Writing functions**\n",
        "\n",
        "Functions are piece of code that accept a set of arguments as input and return a value. Functions can be executed 'on-demand'.\n",
        "Functions can be created using the following scheme:\n",
        "\n",
        "\n",
        "*   `def`, which is the abbreviation of 'define' and which is the prelude to any construction of function.\n",
        "*   `function name`, which is named exactly as a variable. Do not use an already instantiated variable name to name a function.\n",
        "* `list of parameters` separated by commas and enclosed by opening and closing parentheses.\n",
        "* `:`,  colon to close the line\n",
        "* `()`, parentheses are mandatory, even if your function does not wait for any parameter."
      ],
      "metadata": {
        "id": "2-XAD4RLKs1H"
      }
    },
    {
      "cell_type": "code",
      "source": [
        "def my_function(parameter1, parameter2):\n",
        "    \"\"\"\n",
        "    This is how my function works\n",
        "    \"\"\"\n",
        "    a = parameter1 + parameter2\n",
        "    return a"
      ],
      "metadata": {
        "id": "k5brNTH3K_Ae"
      },
      "execution_count": null,
      "outputs": []
    },
    {
      "cell_type": "code",
      "source": [
        "my_function(2,5)"
      ],
      "metadata": {
        "id": "lprlg1UPLBm7"
      },
      "execution_count": null,
      "outputs": []
    },
    {
      "cell_type": "markdown",
      "source": [
        "Functions accept both regular arguments and keyword arguments. This means that you can specify which keywords are which and pass them in as follows"
      ],
      "metadata": {
        "id": "o0WGUiX5LTBj"
      }
    },
    {
      "cell_type": "code",
      "source": [
        "def keyword_function(a=1, b=2):\n",
        "  return a + b"
      ],
      "metadata": {
        "id": "zhRiaAcpLWlT"
      },
      "execution_count": null,
      "outputs": []
    },
    {
      "cell_type": "code",
      "source": [
        "keyword_function(4,5)"
      ],
      "metadata": {
        "colab": {
          "base_uri": "https://localhost:8080/"
        },
        "id": "-U1bycGXLeTD",
        "outputId": "5cb150cc-a645-4b53-f7cf-5bccf61e91e7"
      },
      "execution_count": null,
      "outputs": [
        {
          "output_type": "execute_result",
          "data": {
            "text/plain": [
              "9"
            ]
          },
          "metadata": {},
          "execution_count": 2
        }
      ]
    },
    {
      "cell_type": "markdown",
      "source": [
        "You can mix regular arguments with keyword arguments"
      ],
      "metadata": {
        "id": "WF6TLsWnLrzJ"
      }
    },
    {
      "cell_type": "code",
      "source": [
        "def mixed_function(a, b=2, c=3):\n",
        "  return a + b + c"
      ],
      "metadata": {
        "id": "pIZu9kGbLmch"
      },
      "execution_count": null,
      "outputs": []
    },
    {
      "cell_type": "code",
      "source": [
        "mixed_function(5)"
      ],
      "metadata": {
        "id": "6-aK4t1hLuvY"
      },
      "execution_count": null,
      "outputs": []
    },
    {
      "cell_type": "code",
      "source": [
        "mixed_function(a=1, b=8, c=12)"
      ],
      "metadata": {
        "id": "xXACcrW3LzZC"
      },
      "execution_count": null,
      "outputs": []
    },
    {
      "cell_type": "code",
      "source": [
        "bakeryPrices = {'pain au chocolat': 2.00, 'baguette': 1.50, 'ourson': 1.75}"
      ],
      "metadata": {
        "id": "Tssyg-_aMLlh"
      },
      "execution_count": null,
      "outputs": []
    },
    {
      "cell_type": "code",
      "source": [
        "def buyItem(item, numEuros):\n",
        "    if item not in bakeryPrices:\n",
        "        print(\"Sorry we don't have %s\" % (item))\n",
        "    else:\n",
        "        cost = bakeryPrices[item] * numEuros\n",
        "        print(\"That'll be %f please\" % (cost))\n",
        "\n",
        "# Main Function\n",
        "if __name__ == '__main__':\n",
        "    buyItem('pain au chocolat', 2.4)\n",
        "    buyItem('pain au raisin', 2)"
      ],
      "metadata": {
        "id": "lpar6cE6MJIh"
      },
      "execution_count": null,
      "outputs": []
    },
    {
      "cell_type": "markdown",
      "source": [
        "There is also a conditional (or if) statement that checks the value of `__name__ `and compares it to the string `__main__`. When the if statement evaluates to True, the Python interpreter executes `main()`. You can read more about conditional statements in Conditional Statements in Python."
      ],
      "metadata": {
        "id": "21vPRx33MNMY"
      }
    },
    {
      "cell_type": "markdown",
      "source": [
        "#**Object Basics**"
      ],
      "metadata": {
        "id": "gCDLnQ4RMyKo"
      }
    },
    {
      "cell_type": "markdown",
      "source": [
        "### **Classes**\n",
        "Classes are abstract objects that encapsulate the data (i.e., prevent it from being altered or used inappropriately) and make it easier to write general-purpose code.\n",
        "\n",
        "To remember: methods are associated with the objects of the class they belong to. Functions are not associated with any object. We can invoke a function just by its name. Functions operate on the data you pass to them as arguments."
      ],
      "metadata": {
        "id": "chhsSn-JM5T4"
      }
    },
    {
      "cell_type": "code",
      "source": [
        "class FruitShop:\n",
        "\n",
        "    def __init__(self, name, fruitPrices):\n",
        "        \"\"\"\n",
        "            name: Name of the fruit shop\n",
        "\n",
        "            fruitPrices: Dictionary with keys as fruit\n",
        "            strings and prices for values e.g.\n",
        "            {'apples': 2.00, 'oranges': 1.50, 'pears': 1.75}\n",
        "        \"\"\"\n",
        "        self.fruitPrices = fruitPrices\n",
        "        self.name = name\n",
        "        print('Welcome to %s fruit shop' % (name))\n",
        "\n",
        "    def getCostPerPound(self, fruit):\n",
        "        \"\"\"\n",
        "            fruit: Fruit string\n",
        "        Returns cost of 'fruit', assuming 'fruit'\n",
        "        is in our inventory or None otherwise\n",
        "        \"\"\"\n",
        "        if fruit not in self.fruitPrices:\n",
        "            return None\n",
        "        return self.fruitPrices[fruit]\n",
        "\n",
        "    def getPriceOfOrder(self, orderList):\n",
        "        \"\"\"\n",
        "            orderList: List of (fruit, numPounds) tuples\n",
        "\n",
        "        Returns cost of orderList, only including the values of\n",
        "        fruits that this fruit shop has.\n",
        "        \"\"\"\n",
        "        totalCost = 0.0\n",
        "        for fruit, numPounds in orderList:\n",
        "            costPerPound = self.getCostPerPound(fruit)\n",
        "            if costPerPound != None:\n",
        "                totalCost += numPounds * costPerPound\n",
        "        return totalCost\n",
        "\n",
        "    def getName(self):\n",
        "        return self.name"
      ],
      "metadata": {
        "id": "ZA_FLTb_M4Ui"
      },
      "execution_count": null,
      "outputs": []
    },
    {
      "cell_type": "markdown",
      "source": [
        "### **Objects**\n",
        "if you are working on different python codes, you can import the class FruitShop by using `import` followed by the name of the file without the extension (e.g., import shop). This make your class accessible to other scripts, e.g., you can create other objects FruitShop as follows:\n",
        "\n",
        "\n",
        "```\n",
        "import shop\n",
        "\n",
        "shopName = 'the Berkeley Bowl'\n",
        "fruitPrices = {'apples': 1.00, 'oranges': 1.50, 'pears': 1.75}\n",
        "berkeleyShop = shop.FruitShop(shopName, fruitPrices)\n",
        "applePrice = berkeleyShop.getCostPerPound('apples')\n",
        "print(applePrice)\n",
        "print('Apples cost $%.2f at %s.' % (applePrice, shopName))\n",
        "\n",
        "otherName = 'the Stanford Mall'\n",
        "otherFruitPrices = {'kiwis': 6.00, 'apples': 4.50, 'peaches': 8.75}\n",
        "otherFruitShop = shop.FruitShop(otherName, otherFruitPrices)\n",
        "otherPrice = otherFruitShop.getCostPerPound('apples')\n",
        "print(otherPrice)\n",
        "print('Apples cost $%.2f at %s.' % (otherPrice, otherName))\n",
        "print(\"My, that's expensive!\")\n",
        "\n",
        "```\n",
        "\n"
      ],
      "metadata": {
        "id": "z05Fbk_8NFwU"
      }
    },
    {
      "cell_type": "markdown",
      "source": [
        "# **Well done!**\n",
        "\n",
        "Below you can find a list of references and additional material to continue learn.\n",
        "\n",
        "\n",
        "\n",
        "*   [Python Documentation](https://docs.python.org/3/)\n",
        "*   [Automate Boring Stuff - Chapter 1](https://automatetheboringstuff.com/2e/chapter1/)\n",
        "* [pythonbooks.org](https://pythonbooks.org/) a comprehensive set of books organized by rank and level.\n",
        "\n",
        "\n"
      ],
      "metadata": {
        "id": "Vf6pi6Mf0O1b"
      }
    }
  ]
}
