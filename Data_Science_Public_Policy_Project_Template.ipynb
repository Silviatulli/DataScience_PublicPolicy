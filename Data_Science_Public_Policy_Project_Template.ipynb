{
  "nbformat": 4,
  "nbformat_minor": 0,
  "metadata": {
    "colab": {
      "provenance": [],
      "include_colab_link": true
    },
    "kernelspec": {
      "name": "python3",
      "display_name": "Python 3"
    },
    "language_info": {
      "name": "python"
    }
  },
  "cells": [
    {
      "cell_type": "markdown",
      "metadata": {
        "id": "view-in-github",
        "colab_type": "text"
      },
      "source": [
        "<a href=\"https://colab.research.google.com/github/Silviatulli/DataScience_PublicPolicy/blob/main/Data_Science_Public_Policy_Project_Template.ipynb\" target=\"_parent\"><img src=\"https://colab.research.google.com/assets/colab-badge.svg\" alt=\"Open In Colab\"/></a>"
      ]
    },
    {
      "cell_type": "markdown",
      "source": [
        "# **Assignment 3: Data Science for Public Policy**\n",
        "\n",
        "Here's a basic template you can use as a starting point for this assignment.\n",
        "\n",
        "* Include the code you used for data collection, cleaning, analysis, and\n",
        "visualization. Make sure to structure your code with appropriate comments for clarity.\n",
        "\n",
        "* Remember to replace the placeholders with your specific content, and adapt the template as needed to fit the requirements of your assignment and the specific data and research questions you are addressing"
      ],
      "metadata": {
        "id": "p2bgGJxkNy12"
      }
    },
    {
      "cell_type": "markdown",
      "source": [
        "Below is an example of how we expect you to structure the different sections, mixing text and code cells:\n",
        "### 1. Data cleaning\n",
        "\n",
        "First of all, we built a single referential of variables for our datasets, using a for a loop to blablabla"
      ],
      "metadata": {
        "id": "eS8miBGRS3l0"
      }
    },
    {
      "cell_type": "code",
      "source": [
        "#We replaced some variables to make analysis easier.\n",
        "#The goal here is to harmonize variable names in both our datasets\n",
        "\n",
        "l = ['Hardik', 'Rohit', 'Rahul', 'Virat', 'Pant']\n",
        "\n",
        "for i in range(len(l)):\n",
        "\n",
        "    # replace hardik with shardul\n",
        "    if l[i] == 'Hardik':\n",
        "        l[i] = 'Shardul'\n",
        "\n",
        "    # replace pant with ishan\n",
        "    if l[i] == 'Pant':\n",
        "        l[i] = 'Ishan'\n",
        "\n",
        "# print list\n",
        "print(l)"
      ],
      "metadata": {
        "id": "vyPdPQe9Rw8M",
        "colab": {
          "base_uri": "https://localhost:8080/"
        },
        "outputId": "891310e7-d1ac-4db9-90de-d1c7664e1f0a"
      },
      "execution_count": null,
      "outputs": [
        {
          "output_type": "stream",
          "name": "stdout",
          "text": [
            "['Shardul', 'Rohit', 'Rahul', 'Virat', 'Ishan']\n"
          ]
        }
      ]
    },
    {
      "cell_type": "markdown",
      "source": [
        "# Name of the Group:\n",
        "# Members of the Group:\n",
        "# Topic:"
      ],
      "metadata": {
        "id": "w06GuIsZQgS_"
      }
    },
    {
      "cell_type": "markdown",
      "source": [
        "# **Introduction**\n",
        "Provide a brief introduction to your project, explaining its purpose and the problem you're addressing."
      ],
      "metadata": {
        "id": "mt7D2ZpkONL_"
      }
    },
    {
      "cell_type": "markdown",
      "source": [
        "# **Data Collection and Preprocessing**"
      ],
      "metadata": {
        "id": "TiPNguiBOYDn"
      }
    },
    {
      "cell_type": "markdown",
      "source": [
        "## Data Source: Describe where you obtained the data."
      ],
      "metadata": {
        "id": "zT2dHNxDOkB_"
      }
    },
    {
      "cell_type": "markdown",
      "source": [
        "## Data Description: Provide an overview of the dataset, including its structure and variables."
      ],
      "metadata": {
        "id": "Wd1sdeLtOmXN"
      }
    },
    {
      "cell_type": "markdown",
      "source": [
        "## Data Cleaning: Explain how you cleaned and prepared the data for analysis."
      ],
      "metadata": {
        "id": "6xLN8O1tOs4E"
      }
    },
    {
      "cell_type": "markdown",
      "source": [
        "# **Exploratory Data Analysis (EDA)**\n",
        "Perform an initial exploration of the data to better understand its characteristics and uncover any patterns or trends."
      ],
      "metadata": {
        "id": "hIyCMyNFO1Lo"
      }
    },
    {
      "cell_type": "markdown",
      "source": [
        "# Visualizations\n",
        "Include relevant data visualizations such as histograms, scatter plots, and bar charts to illustrate key findings."
      ],
      "metadata": {
        "id": "geyE9QmCO3V9"
      }
    },
    {
      "cell_type": "markdown",
      "source": [
        "# Summary Statistics\n",
        "Calculate and present summary statistics for important variables in the dataset."
      ],
      "metadata": {
        "id": "Q3gConbhO5aB"
      }
    },
    {
      "cell_type": "markdown",
      "source": [
        "# **Data Analysis**\n",
        "This section should contain the main data analysis steps for your assignment."
      ],
      "metadata": {
        "id": "sv4-zaalPLZQ"
      }
    },
    {
      "cell_type": "markdown",
      "source": [
        "## Hypotheses\n",
        "State your hypotheses or research questions."
      ],
      "metadata": {
        "id": "RFFU1H6YPOOR"
      }
    },
    {
      "cell_type": "markdown",
      "source": [
        "## Data Modeling\n",
        "Discuss the statistical or machine learning methods you are using and why you chose them."
      ],
      "metadata": {
        "id": "4ZBFyX_KPUvO"
      }
    },
    {
      "cell_type": "markdown",
      "source": [
        "## Results\n",
        "Present the results of your analysis."
      ],
      "metadata": {
        "id": "HmXZyx_2PXVy"
      }
    },
    {
      "cell_type": "markdown",
      "source": [
        "## Interpretation\n",
        "Interpret the results in the context of your research question or problem statement."
      ],
      "metadata": {
        "id": "uyP8AVRPPZNy"
      }
    },
    {
      "cell_type": "markdown",
      "source": [
        "# **Policy Implications**\n",
        "Discuss the potential policy implications of your analysis. How can the insights gained from your analysis inform public policy decisions?"
      ],
      "metadata": {
        "id": "x_Amr_4bPlK-"
      }
    },
    {
      "cell_type": "markdown",
      "source": [
        "#**Conclusion**\n",
        "Summarize your findings and the main takeaways from your analysis."
      ],
      "metadata": {
        "id": "8bGm18MKPpiB"
      }
    },
    {
      "cell_type": "markdown",
      "source": [
        "# **References**\n",
        "List any data sources, research papers, or books you referenced during your analysis."
      ],
      "metadata": {
        "id": "Uk_hcDPAPqw3"
      }
    },
    {
      "cell_type": "markdown",
      "source": [
        "# **Acknowledgments**\n",
        "If you received any help or collaborated with others on this assignment, acknowledge their contributions."
      ],
      "metadata": {
        "id": "zKxBAUN1P9fo"
      }
    }
  ]
}